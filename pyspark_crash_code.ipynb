{
  "nbformat": 4,
  "nbformat_minor": 0,
  "metadata": {
    "colab": {
      "provenance": []
    },
    "kernelspec": {
      "name": "python3",
      "display_name": "Python 3"
    },
    "language_info": {
      "name": "python"
    }
  },
  "cells": [
    {
      "cell_type": "markdown",
      "source": [
        "**Explination**\n",
        "\n",
        "This repository contains a file of basic but essential code functions that can be used in PySpark, a Python library for distributed data processing. These functions are designed to help you accelerate your data processing tasks and take advantage of the distributed computing capabilities of Apache Spark."
      ],
      "metadata": {
        "id": "hP6F-WygX4Qx"
      }
    },
    {
      "cell_type": "markdown",
      "source": [
        "# **IMPORT**"
      ],
      "metadata": {
        "id": "2fRyDdSdgmV5"
      }
    },
    {
      "cell_type": "code",
      "source": [
        "# Download Java Virtual Machine (JVM)\n",
        "!apt-get install openjdk-8-jdk-headless -qq > /dev/null\n",
        "# Download Spark\n",
        "!wget -q https://dlcdn.apache.org/spark/spark-3.4.0/spark-3.4.0-bin-hadoop3.tgz\n",
        "# Unzip\n",
        "!tar xf spark-3.4.0-bin-hadoop3.tgz\n",
        "\n",
        "import os\n",
        "os.environ[\"JAVA_HOME\"] = \"/usr/lib/jvm/java-8-openjdk-amd64\"\n",
        "os.environ[\"SPARK_HOME\"] = '/content/spark-3.4.0-bin-hadoop3'\n",
        "\n",
        "# Install library for finding Spark\n",
        "!pip install -q findspark\n",
        "\n",
        "# Import the libary\n",
        "import findspark\n",
        "\n",
        "# Initiate findspark\n",
        "findspark.init()\n",
        "\n",
        "# Check the location for Spark\n",
        "findspark.find()"
      ],
      "metadata": {
        "colab": {
          "base_uri": "https://localhost:8080/",
          "height": 35
        },
        "id": "FY7KC1pDUuQG",
        "outputId": "54358cfc-da7a-4461-ebca-9a3f27b82878"
      },
      "execution_count": null,
      "outputs": [
        {
          "output_type": "execute_result",
          "data": {
            "text/plain": [
              "'/content/spark-3.4.0-bin-hadoop3'"
            ],
            "application/vnd.google.colaboratory.intrinsic+json": {
              "type": "string"
            }
          },
          "metadata": {},
          "execution_count": 1
        }
      ]
    },
    {
      "cell_type": "code",
      "source": [
        "import pyspark\n",
        "from pyspark.sql import SparkSession\n",
        "spark = SparkSession.builder.getOrCreate()\n",
        "spark"
      ],
      "metadata": {
        "colab": {
          "base_uri": "https://localhost:8080/",
          "height": 219
        },
        "id": "7uy2XVmVYR94",
        "outputId": "e74c6e37-224d-4b21-a8bd-19fa492ae5d9"
      },
      "execution_count": null,
      "outputs": [
        {
          "output_type": "execute_result",
          "data": {
            "text/plain": [
              "<pyspark.sql.session.SparkSession at 0x7f52d766ac80>"
            ],
            "text/html": [
              "\n",
              "            <div>\n",
              "                <p><b>SparkSession - in-memory</b></p>\n",
              "                \n",
              "        <div>\n",
              "            <p><b>SparkContext</b></p>\n",
              "\n",
              "            <p><a href=\"http://643903d806cd:4040\">Spark UI</a></p>\n",
              "\n",
              "            <dl>\n",
              "              <dt>Version</dt>\n",
              "                <dd><code>v3.4.0</code></dd>\n",
              "              <dt>Master</dt>\n",
              "                <dd><code>local[*]</code></dd>\n",
              "              <dt>AppName</dt>\n",
              "                <dd><code>pyspark-shell</code></dd>\n",
              "            </dl>\n",
              "        </div>\n",
              "        \n",
              "            </div>\n",
              "        "
            ]
          },
          "metadata": {},
          "execution_count": 3
        }
      ]
    },
    {
      "cell_type": "markdown",
      "source": [
        "# **DATA SET IMPORTING**"
      ],
      "metadata": {
        "id": "v0G0NAVmoJid"
      }
    },
    {
      "cell_type": "code",
      "source": [
        "# Way to import csv\n",
        "df = spark.read.format(\"csv\").option('header', 'true').load('original.csv')\n",
        "df.show()\n",
        "\n",
        "# Another way to do thesame as above\n",
        "df = spark.read.csv('original.csv', header=True)"
      ],
      "metadata": {
        "colab": {
          "base_uri": "https://localhost:8080/"
        },
        "id": "jy2wam8yVV09",
        "outputId": "5db9b18f-eb79-440b-b223-4ec04111e257"
      },
      "execution_count": null,
      "outputs": [
        {
          "output_type": "stream",
          "name": "stdout",
          "text": [
            "+---+----------+----------+------+---------------+--------------------+---------+----------+-----------+\n",
            "| id|first_name| last_name|gender|           City|            JobTitle|   Salary|  Latitude|  Longitude|\n",
            "+---+----------+----------+------+---------------+--------------------+---------+----------+-----------+\n",
            "|  1|   Melinde| Shilburne|Female|      Nowa Ruda| Assistant Professor|$57438.18|50.5774075| 16.4967184|\n",
            "|  2|  Kimberly|Von Welden|Female|         Bulgan|       Programmer II|$62846.60|48.8231572|103.5218199|\n",
            "|  3|    Alvera|  Di Boldi|Female|           null|                null|$57576.52|39.9947462|116.3397725|\n",
            "|  4|   Shannon| O'Griffin|  Male|  Divnomorskoye|Budget/Accounting...|$61489.23|44.5047212| 38.1300171|\n",
            "|  5|  Sherwood|   Macieja|  Male|      Mytishchi|            VP Sales|$63863.09|      null| 37.6489954|\n",
            "|  6|     Maris|      Folk|Female|Kinsealy-Drinan|      Civil Engineer|$30101.16|53.4266145| -6.1644997|\n",
            "|  7|     Masha|    Divers|Female|         Dachun|                null|$25090.87| 24.879416| 118.930111|\n",
            "|  8|   Goddart|     Flear|  Male|      Trélissac|Desktop Support T...|$46116.36|45.1905186|  0.7423124|\n",
            "|  9|      Roth|O'Cannavan|  Male|         Heitan|VP Product Manage...|$73697.10| 32.027934| 106.657113|\n",
            "| 10|      Bran|   Trahear|  Male|       Arbeláez|Mechanical System...|$68098.42|  4.272793| -74.416014|\n",
            "| 11|    Kylynn|   Lockart|Female|       El Cardo|Nuclear Power Eng...|$13604.63|     -5.85|-79.8833329|\n",
            "| 12|       Rey|    Meharg|Female|    Wangqingtuo|Systems Administr...|$73423.70| 39.172378| 116.931607|\n",
            "| 13|      Kerr|    Braden|  Male|      Sułkowice|Compensation Analyst|$33432.99|49.8151822| 19.3771749|\n",
            "| 14|    Mickie| Whanstall|  Male|    Springfield|Assistant Media P...|$50838.53|42.1014803|-72.5766759|\n",
            "| 15|    Kaspar|     Pally|  Male|         Chrást|  Analyst Programmer|$40163.03|49.7923299| 13.4915324|\n",
            "| 16|    Norbie|    Gwyllt|  Male|         Xijiao|              Editor|$32492.73|43.4945737|  5.8978018|\n",
            "| 17|    Claude|    Briant|Female|      Mieścisko|Research Assistan...|$51862.48|52.7441662| 17.3278637|\n",
            "| 18|     Thain|    Habbon|  Male| Foros do Trapo|     Design Engineer|$42135.67| 38.696249| -8.7098337|\n",
            "| 19|  Tiffanie|  Pattison|Female|    Jabungsisir|Senior Financial ...|$91925.08|-7.7232567|113.4686802|\n",
            "| 20|    Ettore|  Gerriets|  Male|          Pedra| Staff Accountant IV|$73921.33|40.7172049| -8.3625148|\n",
            "+---+----------+----------+------+---------------+--------------------+---------+----------+-----------+\n",
            "only showing top 20 rows\n",
            "\n"
          ]
        }
      ]
    },
    {
      "cell_type": "markdown",
      "source": [
        "# **INSPECTION OF DF**"
      ],
      "metadata": {
        "id": "ZN1usfDUoMKX"
      }
    },
    {
      "cell_type": "code",
      "source": [
        "df.dtypes"
      ],
      "metadata": {
        "colab": {
          "base_uri": "https://localhost:8080/"
        },
        "id": "kH_FbqD8lwUI",
        "outputId": "d65170e8-8b70-4f06-e6dc-2dce74ecf578"
      },
      "execution_count": null,
      "outputs": [
        {
          "output_type": "execute_result",
          "data": {
            "text/plain": [
              "[('id', 'string'),\n",
              " ('first_name', 'string'),\n",
              " ('last_name', 'string'),\n",
              " ('gender', 'string'),\n",
              " ('City', 'string'),\n",
              " ('JobTitle', 'string'),\n",
              " ('Salary', 'string'),\n",
              " ('Latitude', 'string'),\n",
              " ('Longitude', 'string')]"
            ]
          },
          "metadata": {},
          "execution_count": 57
        }
      ]
    },
    {
      "cell_type": "code",
      "source": [
        "df.head(6)"
      ],
      "metadata": {
        "colab": {
          "base_uri": "https://localhost:8080/"
        },
        "id": "SQicfHZBngIL",
        "outputId": "a4937746-e939-47ff-a824-594341bdf866"
      },
      "execution_count": null,
      "outputs": [
        {
          "output_type": "execute_result",
          "data": {
            "text/plain": [
              "[Row(id='1', first_name='Melinde', last_name='Shilburne', gender='Female', City='Nowa Ruda', JobTitle='Assistant Professor', Salary='$57438.18', Latitude='50.5774075', Longitude='16.4967184'),\n",
              " Row(id='2', first_name='Kimberly', last_name='Von Welden', gender='Female', City='Bulgan', JobTitle='Programmer II', Salary='$62846.60', Latitude='48.8231572', Longitude='103.5218199'),\n",
              " Row(id='3', first_name='Alvera', last_name='Di Boldi', gender='Female', City=None, JobTitle=None, Salary='$57576.52', Latitude='39.9947462', Longitude='116.3397725'),\n",
              " Row(id='4', first_name='Shannon', last_name=\"O'Griffin\", gender='Male', City='Divnomorskoye', JobTitle='Budget/Accounting Analyst II', Salary='$61489.23', Latitude='44.5047212', Longitude='38.1300171'),\n",
              " Row(id='5', first_name='Sherwood', last_name='Macieja', gender='Male', City='Mytishchi', JobTitle='VP Sales', Salary='$63863.09', Latitude=None, Longitude='37.6489954'),\n",
              " Row(id='6', first_name='Maris', last_name='Folk', gender='Female', City='Kinsealy-Drinan', JobTitle='Civil Engineer', Salary='$30101.16', Latitude='53.4266145', Longitude='-6.1644997')]"
            ]
          },
          "metadata": {},
          "execution_count": 59
        }
      ]
    },
    {
      "cell_type": "code",
      "source": [
        "df.first()"
      ],
      "metadata": {
        "colab": {
          "base_uri": "https://localhost:8080/"
        },
        "id": "WbLLnGbynkCq",
        "outputId": "c619808b-ea26-4ad8-f9f5-7ed0cbb4d5a4"
      },
      "execution_count": null,
      "outputs": [
        {
          "output_type": "execute_result",
          "data": {
            "text/plain": [
              "Row(id='1', first_name='Melinde', last_name='Shilburne', gender='Female', City='Nowa Ruda', JobTitle='Assistant Professor', Salary='$57438.18', Latitude='50.5774075', Longitude='16.4967184')"
            ]
          },
          "metadata": {},
          "execution_count": 60
        }
      ]
    },
    {
      "cell_type": "code",
      "source": [
        "df.describe().show()"
      ],
      "metadata": {
        "colab": {
          "base_uri": "https://localhost:8080/"
        },
        "id": "K1TpZAD-nlMg",
        "outputId": "0738003c-4a8d-4cfa-b8a6-93463f6304c3"
      },
      "execution_count": null,
      "outputs": [
        {
          "output_type": "stream",
          "name": "stdout",
          "text": [
            "+-------+-----------------+----------+---------+------+-------------------+-------------------+---------+-----------------+------------------+\n",
            "|summary|               id|first_name|last_name|gender|               City|           JobTitle|   Salary|         Latitude|         Longitude|\n",
            "+-------+-----------------+----------+---------+------+-------------------+-------------------+---------+-----------------+------------------+\n",
            "|  count|             1000|      1000|     1000|  1000|                999|                998|     1000|              999|              1000|\n",
            "|   mean|            500.5|      null|     null|  null|               null|               null|     null|25.43151724234234|43.337564614499996|\n",
            "| stddev|288.8194360957494|      null|     null|  null|               null|               null|     null| 24.5790825486909| 69.42064539970089|\n",
            "|    min|                1|   Abagail|    Abbay|Female|             Abéché|Account Coordinator|$10101.92|       -0.6256517|        -0.4889547|\n",
            "|    max|              999|    Zulema| de Marco|  Male|‘Aşīrah al Qiblīyah|   Web Developer IV|$99948.28|        9.9533828|        99.9590822|\n",
            "+-------+-----------------+----------+---------+------+-------------------+-------------------+---------+-----------------+------------------+\n",
            "\n"
          ]
        }
      ]
    },
    {
      "cell_type": "code",
      "source": [
        "df.columns"
      ],
      "metadata": {
        "colab": {
          "base_uri": "https://localhost:8080/"
        },
        "id": "JcEMyan_ntHh",
        "outputId": "08c2a2e7-9f46-42db-c66d-ebe068034dbc"
      },
      "execution_count": null,
      "outputs": [
        {
          "output_type": "execute_result",
          "data": {
            "text/plain": [
              "['id',\n",
              " 'first_name',\n",
              " 'last_name',\n",
              " 'gender',\n",
              " 'City',\n",
              " 'JobTitle',\n",
              " 'Salary',\n",
              " 'Latitude',\n",
              " 'Longitude']"
            ]
          },
          "metadata": {},
          "execution_count": 64
        }
      ]
    },
    {
      "cell_type": "code",
      "source": [
        "df.count()"
      ],
      "metadata": {
        "colab": {
          "base_uri": "https://localhost:8080/"
        },
        "id": "tWwxVtRenwTb",
        "outputId": "5c9f13b5-6509-41ab-b7b7-befea11e32c4"
      },
      "execution_count": null,
      "outputs": [
        {
          "output_type": "execute_result",
          "data": {
            "text/plain": [
              "1000"
            ]
          },
          "metadata": {},
          "execution_count": 66
        }
      ]
    },
    {
      "cell_type": "code",
      "source": [
        "# count all unique entries\n",
        "df.distinct().count()"
      ],
      "metadata": {
        "colab": {
          "base_uri": "https://localhost:8080/"
        },
        "id": "1euYz9fln4qm",
        "outputId": "2c62e84d-4b22-4c9a-e149-453ef1b5596e"
      },
      "execution_count": null,
      "outputs": [
        {
          "output_type": "execute_result",
          "data": {
            "text/plain": [
              "1000"
            ]
          },
          "metadata": {},
          "execution_count": 67
        }
      ]
    },
    {
      "cell_type": "markdown",
      "source": [
        "# **NULL DUPLICATE HANDELING** "
      ],
      "metadata": {
        "id": "IbLt-bP8oBUX"
      }
    },
    {
      "cell_type": "code",
      "source": [
        "# Deletes all na rows from all col instances\n",
        "df_dropped = df.na.drop()\n",
        "df_dropped.show()"
      ],
      "metadata": {
        "id": "wWgRfHvloR6U"
      },
      "execution_count": null,
      "outputs": []
    },
    {
      "cell_type": "code",
      "source": [
        "from pyspark.sql.functions import *\n",
        "# Original dataframe WITH a new column called clean_city\n",
        "# The value in there says, when the original df data is null print unknown\n",
        "# otherwise print the original df City col value\n",
        "df2 = df.withColumn('clean_city', when(df.City.isNull(), 'Unknown').otherwise(df.City))"
      ],
      "metadata": {
        "id": "jPVzuVK5YwYq"
      },
      "execution_count": null,
      "outputs": []
    },
    {
      "cell_type": "code",
      "source": [
        "df2.show()"
      ],
      "metadata": {
        "colab": {
          "base_uri": "https://localhost:8080/"
        },
        "id": "Sel2BEHPZpy0",
        "outputId": "b653ddb1-ed49-4c1d-8488-c647f632f366"
      },
      "execution_count": null,
      "outputs": [
        {
          "output_type": "stream",
          "name": "stdout",
          "text": [
            "+---+----------+----------+------+---------------+--------------------+---------+----------+-----------+---------------+\n",
            "| id|first_name| last_name|gender|           City|            JobTitle|   Salary|  Latitude|  Longitude|     clean_city|\n",
            "+---+----------+----------+------+---------------+--------------------+---------+----------+-----------+---------------+\n",
            "|  1|   Melinde| Shilburne|Female|      Nowa Ruda| Assistant Professor|$57438.18|50.5774075| 16.4967184|      Nowa Ruda|\n",
            "|  2|  Kimberly|Von Welden|Female|         Bulgan|       Programmer II|$62846.60|48.8231572|103.5218199|         Bulgan|\n",
            "|  3|    Alvera|  Di Boldi|Female|           null|                null|$57576.52|39.9947462|116.3397725|        Unknown|\n",
            "|  4|   Shannon| O'Griffin|  Male|  Divnomorskoye|Budget/Accounting...|$61489.23|44.5047212| 38.1300171|  Divnomorskoye|\n",
            "|  5|  Sherwood|   Macieja|  Male|      Mytishchi|            VP Sales|$63863.09|      null| 37.6489954|      Mytishchi|\n",
            "|  6|     Maris|      Folk|Female|Kinsealy-Drinan|      Civil Engineer|$30101.16|53.4266145| -6.1644997|Kinsealy-Drinan|\n",
            "|  7|     Masha|    Divers|Female|         Dachun|                null|$25090.87| 24.879416| 118.930111|         Dachun|\n",
            "|  8|   Goddart|     Flear|  Male|      Trélissac|Desktop Support T...|$46116.36|45.1905186|  0.7423124|      Trélissac|\n",
            "|  9|      Roth|O'Cannavan|  Male|         Heitan|VP Product Manage...|$73697.10| 32.027934| 106.657113|         Heitan|\n",
            "| 10|      Bran|   Trahear|  Male|       Arbeláez|Mechanical System...|$68098.42|  4.272793| -74.416014|       Arbeláez|\n",
            "| 11|    Kylynn|   Lockart|Female|       El Cardo|Nuclear Power Eng...|$13604.63|     -5.85|-79.8833329|       El Cardo|\n",
            "| 12|       Rey|    Meharg|Female|    Wangqingtuo|Systems Administr...|$73423.70| 39.172378| 116.931607|    Wangqingtuo|\n",
            "| 13|      Kerr|    Braden|  Male|      Sułkowice|Compensation Analyst|$33432.99|49.8151822| 19.3771749|      Sułkowice|\n",
            "| 14|    Mickie| Whanstall|  Male|    Springfield|Assistant Media P...|$50838.53|42.1014803|-72.5766759|    Springfield|\n",
            "| 15|    Kaspar|     Pally|  Male|         Chrást|  Analyst Programmer|$40163.03|49.7923299| 13.4915324|         Chrást|\n",
            "| 16|    Norbie|    Gwyllt|  Male|         Xijiao|              Editor|$32492.73|43.4945737|  5.8978018|         Xijiao|\n",
            "| 17|    Claude|    Briant|Female|      Mieścisko|Research Assistan...|$51862.48|52.7441662| 17.3278637|      Mieścisko|\n",
            "| 18|     Thain|    Habbon|  Male| Foros do Trapo|     Design Engineer|$42135.67| 38.696249| -8.7098337| Foros do Trapo|\n",
            "| 19|  Tiffanie|  Pattison|Female|    Jabungsisir|Senior Financial ...|$91925.08|-7.7232567|113.4686802|    Jabungsisir|\n",
            "| 20|    Ettore|  Gerriets|  Male|          Pedra| Staff Accountant IV|$73921.33|40.7172049| -8.3625148|          Pedra|\n",
            "+---+----------+----------+------+---------------+--------------------+---------+----------+-----------+---------------+\n",
            "only showing top 20 rows\n",
            "\n"
          ]
        }
      ]
    },
    {
      "cell_type": "code",
      "source": [
        "# USING FILTER FUNCTION\n",
        "\n",
        "# Filter it with where JobTitle IS NOT NULL -> so keen all not null entries.\n",
        "df2 = df2.filter(df2.JobTitle.isNotNull())\n",
        "df2.show()"
      ],
      "metadata": {
        "colab": {
          "base_uri": "https://localhost:8080/"
        },
        "id": "FDiGMGCdZxK8",
        "outputId": "1ca20f53-8276-43ea-afbd-1ddf8528b2db"
      },
      "execution_count": null,
      "outputs": [
        {
          "output_type": "stream",
          "name": "stdout",
          "text": [
            "+---+----------+----------+------+---------------+--------------------+---------+----------+-----------+---------------+\n",
            "| id|first_name| last_name|gender|           City|            JobTitle|   Salary|  Latitude|  Longitude|     clean_city|\n",
            "+---+----------+----------+------+---------------+--------------------+---------+----------+-----------+---------------+\n",
            "|  1|   Melinde| Shilburne|Female|      Nowa Ruda| Assistant Professor|$57438.18|50.5774075| 16.4967184|      Nowa Ruda|\n",
            "|  2|  Kimberly|Von Welden|Female|         Bulgan|       Programmer II|$62846.60|48.8231572|103.5218199|         Bulgan|\n",
            "|  4|   Shannon| O'Griffin|  Male|  Divnomorskoye|Budget/Accounting...|$61489.23|44.5047212| 38.1300171|  Divnomorskoye|\n",
            "|  5|  Sherwood|   Macieja|  Male|      Mytishchi|            VP Sales|$63863.09|      null| 37.6489954|      Mytishchi|\n",
            "|  6|     Maris|      Folk|Female|Kinsealy-Drinan|      Civil Engineer|$30101.16|53.4266145| -6.1644997|Kinsealy-Drinan|\n",
            "|  8|   Goddart|     Flear|  Male|      Trélissac|Desktop Support T...|$46116.36|45.1905186|  0.7423124|      Trélissac|\n",
            "|  9|      Roth|O'Cannavan|  Male|         Heitan|VP Product Manage...|$73697.10| 32.027934| 106.657113|         Heitan|\n",
            "| 10|      Bran|   Trahear|  Male|       Arbeláez|Mechanical System...|$68098.42|  4.272793| -74.416014|       Arbeláez|\n",
            "| 11|    Kylynn|   Lockart|Female|       El Cardo|Nuclear Power Eng...|$13604.63|     -5.85|-79.8833329|       El Cardo|\n",
            "| 12|       Rey|    Meharg|Female|    Wangqingtuo|Systems Administr...|$73423.70| 39.172378| 116.931607|    Wangqingtuo|\n",
            "| 13|      Kerr|    Braden|  Male|      Sułkowice|Compensation Analyst|$33432.99|49.8151822| 19.3771749|      Sułkowice|\n",
            "| 14|    Mickie| Whanstall|  Male|    Springfield|Assistant Media P...|$50838.53|42.1014803|-72.5766759|    Springfield|\n",
            "| 15|    Kaspar|     Pally|  Male|         Chrást|  Analyst Programmer|$40163.03|49.7923299| 13.4915324|         Chrást|\n",
            "| 16|    Norbie|    Gwyllt|  Male|         Xijiao|              Editor|$32492.73|43.4945737|  5.8978018|         Xijiao|\n",
            "| 17|    Claude|    Briant|Female|      Mieścisko|Research Assistan...|$51862.48|52.7441662| 17.3278637|      Mieścisko|\n",
            "| 18|     Thain|    Habbon|  Male| Foros do Trapo|     Design Engineer|$42135.67| 38.696249| -8.7098337| Foros do Trapo|\n",
            "| 19|  Tiffanie|  Pattison|Female|    Jabungsisir|Senior Financial ...|$91925.08|-7.7232567|113.4686802|    Jabungsisir|\n",
            "| 20|    Ettore|  Gerriets|  Male|          Pedra| Staff Accountant IV|$73921.33|40.7172049| -8.3625148|          Pedra|\n",
            "| 21|      Alon|  Chasteau|  Male|          Xin’e|     Web Developer I|$62755.85|  49.16291|  127.98658|          Xin’e|\n",
            "| 22|   Guthrey|    Johnke|  Male|         Xijiao|         Developer I|$13708.03|40.7576842| 23.1342184|         Xijiao|\n",
            "+---+----------+----------+------+---------------+--------------------+---------+----------+-----------+---------------+\n",
            "only showing top 20 rows\n",
            "\n"
          ]
        }
      ]
    },
    {
      "cell_type": "code",
      "source": [
        "# Dropping duplicates\n",
        "df_no_dups = df.dropDuplicates()"
      ],
      "metadata": {
        "id": "bPggqdmVo6MU"
      },
      "execution_count": null,
      "outputs": []
    },
    {
      "cell_type": "code",
      "source": [
        "# If the salary is null replace with mean value for salary\n",
        "# Need to clean first -> take all values from postition 2 onwards, then cast as float\n",
        "df2 = df2.withColumn('clean_salary', df2.Salary.substr(2,100).cast('float'))\n",
        "df2.show()"
      ],
      "metadata": {
        "colab": {
          "base_uri": "https://localhost:8080/"
        },
        "id": "KzF_qCkgaY7u",
        "outputId": "b3d39fda-36e0-4d30-824f-85abf367416c"
      },
      "execution_count": null,
      "outputs": [
        {
          "output_type": "stream",
          "name": "stdout",
          "text": [
            "+---+----------+----------+------+---------------+--------------------+---------+----------+-----------+---------------+------------+\n",
            "| id|first_name| last_name|gender|           City|            JobTitle|   Salary|  Latitude|  Longitude|     clean_city|clean_salary|\n",
            "+---+----------+----------+------+---------------+--------------------+---------+----------+-----------+---------------+------------+\n",
            "|  1|   Melinde| Shilburne|Female|      Nowa Ruda| Assistant Professor|$57438.18|50.5774075| 16.4967184|      Nowa Ruda|    57438.18|\n",
            "|  2|  Kimberly|Von Welden|Female|         Bulgan|       Programmer II|$62846.60|48.8231572|103.5218199|         Bulgan|     62846.6|\n",
            "|  4|   Shannon| O'Griffin|  Male|  Divnomorskoye|Budget/Accounting...|$61489.23|44.5047212| 38.1300171|  Divnomorskoye|    61489.23|\n",
            "|  5|  Sherwood|   Macieja|  Male|      Mytishchi|            VP Sales|$63863.09|      null| 37.6489954|      Mytishchi|    63863.09|\n",
            "|  6|     Maris|      Folk|Female|Kinsealy-Drinan|      Civil Engineer|$30101.16|53.4266145| -6.1644997|Kinsealy-Drinan|    30101.16|\n",
            "|  8|   Goddart|     Flear|  Male|      Trélissac|Desktop Support T...|$46116.36|45.1905186|  0.7423124|      Trélissac|    46116.36|\n",
            "|  9|      Roth|O'Cannavan|  Male|         Heitan|VP Product Manage...|$73697.10| 32.027934| 106.657113|         Heitan|     73697.1|\n",
            "| 10|      Bran|   Trahear|  Male|       Arbeláez|Mechanical System...|$68098.42|  4.272793| -74.416014|       Arbeláez|    68098.42|\n",
            "| 11|    Kylynn|   Lockart|Female|       El Cardo|Nuclear Power Eng...|$13604.63|     -5.85|-79.8833329|       El Cardo|    13604.63|\n",
            "| 12|       Rey|    Meharg|Female|    Wangqingtuo|Systems Administr...|$73423.70| 39.172378| 116.931607|    Wangqingtuo|     73423.7|\n",
            "| 13|      Kerr|    Braden|  Male|      Sułkowice|Compensation Analyst|$33432.99|49.8151822| 19.3771749|      Sułkowice|    33432.99|\n",
            "| 14|    Mickie| Whanstall|  Male|    Springfield|Assistant Media P...|$50838.53|42.1014803|-72.5766759|    Springfield|    50838.53|\n",
            "| 15|    Kaspar|     Pally|  Male|         Chrást|  Analyst Programmer|$40163.03|49.7923299| 13.4915324|         Chrást|    40163.03|\n",
            "| 16|    Norbie|    Gwyllt|  Male|         Xijiao|              Editor|$32492.73|43.4945737|  5.8978018|         Xijiao|    32492.73|\n",
            "| 17|    Claude|    Briant|Female|      Mieścisko|Research Assistan...|$51862.48|52.7441662| 17.3278637|      Mieścisko|    51862.48|\n",
            "| 18|     Thain|    Habbon|  Male| Foros do Trapo|     Design Engineer|$42135.67| 38.696249| -8.7098337| Foros do Trapo|    42135.67|\n",
            "| 19|  Tiffanie|  Pattison|Female|    Jabungsisir|Senior Financial ...|$91925.08|-7.7232567|113.4686802|    Jabungsisir|    91925.08|\n",
            "| 20|    Ettore|  Gerriets|  Male|          Pedra| Staff Accountant IV|$73921.33|40.7172049| -8.3625148|          Pedra|    73921.33|\n",
            "| 21|      Alon|  Chasteau|  Male|          Xin’e|     Web Developer I|$62755.85|  49.16291|  127.98658|          Xin’e|    62755.85|\n",
            "| 22|   Guthrey|    Johnke|  Male|         Xijiao|         Developer I|$13708.03|40.7576842| 23.1342184|         Xijiao|    13708.03|\n",
            "+---+----------+----------+------+---------------+--------------------+---------+----------+-----------+---------------+------------+\n",
            "only showing top 20 rows\n",
            "\n"
          ]
        }
      ]
    },
    {
      "cell_type": "code",
      "source": [
        "# Find mean\n",
        "mean = df2.groupBy().avg('clean_salary').take(1)[0][0]\n",
        "mean"
      ],
      "metadata": {
        "colab": {
          "base_uri": "https://localhost:8080/"
        },
        "id": "FIoDCDcna8DN",
        "outputId": "92e91798-1ff5-426d-ba0b-508a7f443716"
      },
      "execution_count": null,
      "outputs": [
        {
          "output_type": "execute_result",
          "data": {
            "text/plain": [
              "55516.32088199837"
            ]
          },
          "metadata": {},
          "execution_count": 18
        }
      ]
    },
    {
      "cell_type": "code",
      "source": [
        "# Alter nulls, when one exists within clean_salary, then give it the literal mean, otherwise just keep it as is.\n",
        "df2 = df2.withColumn('new_salary', when(df2.clean_salary.isNull(), lit(mean)).otherwise(df2.clean_salary))\n",
        "df2.show() "
      ],
      "metadata": {
        "colab": {
          "base_uri": "https://localhost:8080/"
        },
        "id": "9Pf7FKiCbRHy",
        "outputId": "174a9b08-12fe-475e-c6bd-a7faa13b8775"
      },
      "execution_count": null,
      "outputs": [
        {
          "output_type": "stream",
          "name": "stdout",
          "text": [
            "+---+----------+----------+------+---------------+--------------------+---------+----------+-----------+---------------+------------+----------------+\n",
            "| id|first_name| last_name|gender|           City|            JobTitle|   Salary|  Latitude|  Longitude|     clean_city|clean_salary|      new_salary|\n",
            "+---+----------+----------+------+---------------+--------------------+---------+----------+-----------+---------------+------------+----------------+\n",
            "|  1|   Melinde| Shilburne|Female|      Nowa Ruda| Assistant Professor|$57438.18|50.5774075| 16.4967184|      Nowa Ruda|    57438.18|   57438.1796875|\n",
            "|  2|  Kimberly|Von Welden|Female|         Bulgan|       Programmer II|$62846.60|48.8231572|103.5218199|         Bulgan|     62846.6|   62846.6015625|\n",
            "|  4|   Shannon| O'Griffin|  Male|  Divnomorskoye|Budget/Accounting...|$61489.23|44.5047212| 38.1300171|  Divnomorskoye|    61489.23|  61489.23046875|\n",
            "|  5|  Sherwood|   Macieja|  Male|      Mytishchi|            VP Sales|$63863.09|      null| 37.6489954|      Mytishchi|    63863.09|  63863.08984375|\n",
            "|  6|     Maris|      Folk|Female|Kinsealy-Drinan|      Civil Engineer|$30101.16|53.4266145| -6.1644997|Kinsealy-Drinan|    30101.16|  30101.16015625|\n",
            "|  8|   Goddart|     Flear|  Male|      Trélissac|Desktop Support T...|$46116.36|45.1905186|  0.7423124|      Trélissac|    46116.36|    46116.359375|\n",
            "|  9|      Roth|O'Cannavan|  Male|         Heitan|VP Product Manage...|$73697.10| 32.027934| 106.657113|         Heitan|     73697.1|   73697.1015625|\n",
            "| 10|      Bran|   Trahear|  Male|       Arbeláez|Mechanical System...|$68098.42|  4.272793| -74.416014|       Arbeláez|    68098.42|    68098.421875|\n",
            "| 11|    Kylynn|   Lockart|Female|       El Cardo|Nuclear Power Eng...|$13604.63|     -5.85|-79.8833329|       El Cardo|    13604.63|13604.6298828125|\n",
            "| 12|       Rey|    Meharg|Female|    Wangqingtuo|Systems Administr...|$73423.70| 39.172378| 116.931607|    Wangqingtuo|     73423.7|    73423.703125|\n",
            "| 13|      Kerr|    Braden|  Male|      Sułkowice|Compensation Analyst|$33432.99|49.8151822| 19.3771749|      Sułkowice|    33432.99|  33432.98828125|\n",
            "| 14|    Mickie| Whanstall|  Male|    Springfield|Assistant Media P...|$50838.53|42.1014803|-72.5766759|    Springfield|    50838.53|     50838.53125|\n",
            "| 15|    Kaspar|     Pally|  Male|         Chrást|  Analyst Programmer|$40163.03|49.7923299| 13.4915324|         Chrást|    40163.03|     40163.03125|\n",
            "| 16|    Norbie|    Gwyllt|  Male|         Xijiao|              Editor|$32492.73|43.4945737|  5.8978018|         Xijiao|    32492.73|  32492.73046875|\n",
            "| 17|    Claude|    Briant|Female|      Mieścisko|Research Assistan...|$51862.48|52.7441662| 17.3278637|      Mieścisko|    51862.48|  51862.48046875|\n",
            "| 18|     Thain|    Habbon|  Male| Foros do Trapo|     Design Engineer|$42135.67| 38.696249| -8.7098337| Foros do Trapo|    42135.67|    42135.671875|\n",
            "| 19|  Tiffanie|  Pattison|Female|    Jabungsisir|Senior Financial ...|$91925.08|-7.7232567|113.4686802|    Jabungsisir|    91925.08|    91925.078125|\n",
            "| 20|    Ettore|  Gerriets|  Male|          Pedra| Staff Accountant IV|$73921.33|40.7172049| -8.3625148|          Pedra|    73921.33|    73921.328125|\n",
            "| 21|      Alon|  Chasteau|  Male|          Xin’e|     Web Developer I|$62755.85|  49.16291|  127.98658|          Xin’e|    62755.85|   62755.8515625|\n",
            "| 22|   Guthrey|    Johnke|  Male|         Xijiao|         Developer I|$13708.03|40.7576842| 23.1342184|         Xijiao|    13708.03|13708.0302734375|\n",
            "+---+----------+----------+------+---------------+--------------------+---------+----------+-----------+---------------+------------+----------------+\n",
            "only showing top 20 rows\n",
            "\n"
          ]
        }
      ]
    },
    {
      "cell_type": "code",
      "source": [
        "# Populate the lang and lot with the median col\n",
        "import numpy as np\n",
        "latitudes = df2.select('Latitude')\n",
        "latitudes.show()"
      ],
      "metadata": {
        "colab": {
          "base_uri": "https://localhost:8080/"
        },
        "id": "X0aQaeXycDvg",
        "outputId": "2d01a6d6-7b7c-4b89-b073-2c0272d10ff7"
      },
      "execution_count": null,
      "outputs": [
        {
          "output_type": "stream",
          "name": "stdout",
          "text": [
            "+----------+\n",
            "|  Latitude|\n",
            "+----------+\n",
            "|50.5774075|\n",
            "|48.8231572|\n",
            "|44.5047212|\n",
            "|      null|\n",
            "|53.4266145|\n",
            "|45.1905186|\n",
            "| 32.027934|\n",
            "|  4.272793|\n",
            "|     -5.85|\n",
            "| 39.172378|\n",
            "|49.8151822|\n",
            "|42.1014803|\n",
            "|49.7923299|\n",
            "|43.4945737|\n",
            "|52.7441662|\n",
            "| 38.696249|\n",
            "|-7.7232567|\n",
            "|40.7172049|\n",
            "|  49.16291|\n",
            "|40.7576842|\n",
            "+----------+\n",
            "only showing top 20 rows\n",
            "\n"
          ]
        }
      ]
    },
    {
      "cell_type": "code",
      "source": [
        "# Simple select of columns\n",
        "df_select = df2.select(\"first_name\", \"last_name\")\n",
        "df_select.show()"
      ],
      "metadata": {
        "colab": {
          "base_uri": "https://localhost:8080/"
        },
        "id": "QAhwgHySpLH4",
        "outputId": "25a83072-574f-491c-d849-4fe6ff9a4f1d"
      },
      "execution_count": null,
      "outputs": [
        {
          "output_type": "stream",
          "name": "stdout",
          "text": [
            "+----------+----------+\n",
            "|first_name| last_name|\n",
            "+----------+----------+\n",
            "|   Melinde| Shilburne|\n",
            "|  Kimberly|Von Welden|\n",
            "|   Shannon| O'Griffin|\n",
            "|  Sherwood|   Macieja|\n",
            "|     Maris|      Folk|\n",
            "|   Goddart|     Flear|\n",
            "|      Roth|O'Cannavan|\n",
            "|      Bran|   Trahear|\n",
            "|    Kylynn|   Lockart|\n",
            "|       Rey|    Meharg|\n",
            "|      Kerr|    Braden|\n",
            "|    Mickie| Whanstall|\n",
            "|    Kaspar|     Pally|\n",
            "|    Norbie|    Gwyllt|\n",
            "|    Claude|    Briant|\n",
            "|     Thain|    Habbon|\n",
            "|  Tiffanie|  Pattison|\n",
            "|    Ettore|  Gerriets|\n",
            "|      Alon|  Chasteau|\n",
            "|   Guthrey|    Johnke|\n",
            "+----------+----------+\n",
            "only showing top 20 rows\n",
            "\n"
          ]
        }
      ]
    },
    {
      "cell_type": "code",
      "source": [
        "# Rename a column\n",
        "df_renamed = df.withColumnRenamed('first_name', 'fn')"
      ],
      "metadata": {
        "id": "cALL6gXCpWSV"
      },
      "execution_count": null,
      "outputs": []
    },
    {
      "cell_type": "markdown",
      "source": [
        "# **ADVANCED FILTERING**"
      ],
      "metadata": {
        "id": "tdLx4jdSpkWA"
      }
    },
    {
      "cell_type": "code",
      "source": [
        "# Some more advanced filtering techniques\n",
        "df_filter = df.filter((df.first_name == 'Alvera'))\n",
        "df_filter = df.filter((df.first_name.like(\"%lvera\")))\n",
        "df_filter = df.filter((df.first_name.endswith('din')))\n",
        "df_filter = df.filter((df.first_name.startswith('Alv')))\n",
        "df_filter = df.filter((df.id.between(1,5)))\n",
        "df_filter = df.filter((df.first_name.isin('Aldin', 'Valma')))"
      ],
      "metadata": {
        "id": "xx--HHF6pmcW"
      },
      "execution_count": null,
      "outputs": []
    },
    {
      "cell_type": "markdown",
      "source": [
        "## **Applying multiple filters**"
      ],
      "metadata": {
        "id": "P0MHEm9CqX1y"
      }
    },
    {
      "cell_type": "code",
      "source": [
        "# Conditional filters\n",
        "df_filter = df.filter((df.first_name.isin('Aldin', 'Valma')) & (df.city.like('&ondon')))\n",
        "df_filter = df.filter((df.id > 10) & (df.id < 100))\n"
      ],
      "metadata": {
        "id": "ipzudi0PqYUv"
      },
      "execution_count": null,
      "outputs": []
    },
    {
      "cell_type": "markdown",
      "source": [
        "# **SQL ON DATAFRAMES**"
      ],
      "metadata": {
        "id": "9iBPTIA7q8NK"
      }
    },
    {
      "cell_type": "code",
      "source": [
        "# Simple show of how sql can be run\n",
        "df.registerTempTable(\"original\")\n",
        "query1 = spark.sql('select * from original')\n",
        "query1.show()"
      ],
      "metadata": {
        "id": "b2AP2zOGqcYG"
      },
      "execution_count": null,
      "outputs": []
    },
    {
      "cell_type": "code",
      "source": [
        "# Slightly more advanced and more complex example\n",
        "query2 = spark.sql('select concat(first_name, \" \", last_name) as full_name from original where gender = \"female\"')\n",
        "query2.show()"
      ],
      "metadata": {
        "id": "O-qB6ruQqcfo"
      },
      "execution_count": null,
      "outputs": []
    },
    {
      "cell_type": "markdown",
      "source": [
        "# **ADDING CALC COLUMNS WITH CONDITIONS**"
      ],
      "metadata": {
        "id": "uh1kuhjtrqrH"
      }
    },
    {
      "cell_type": "code",
      "source": [
        "# substring and cast of float \n",
        "df2 = df2.withColumn('clean_salary', df2.Salary.substr(2,100).cast('float'))\n",
        "# Div 12 to get monthly sal\n",
        "df2 = df2.withColumn('monthly_salary', df.clean_salary/12)"
      ],
      "metadata": {
        "id": "UkOfmFPerRkt"
      },
      "execution_count": null,
      "outputs": []
    },
    {
      "cell_type": "code",
      "source": [
        "# Conditional calc\n",
        "df2 = df2.withColumn('are_they_female', when(df2.gender == 'Female', 'Yes').otherwise('no'))"
      ],
      "metadata": {
        "id": "VbRnNSBHrtcF"
      },
      "execution_count": null,
      "outputs": []
    },
    {
      "cell_type": "markdown",
      "source": [
        "# **SAVING A FILE**"
      ],
      "metadata": {
        "id": "gJsTYoQahbGr"
      }
    },
    {
      "cell_type": "code",
      "source": [
        "# Save in varous ways \n",
        "df2.write.csv('df1.csv')\n",
        "df2.write.json('df1.json')\n",
        "df2.write.paraquet('df1.paraquet')"
      ],
      "metadata": {
        "id": "ONz0tl2OrthE"
      },
      "execution_count": null,
      "outputs": []
    },
    {
      "cell_type": "code",
      "source": [
        "# Get rid of nulls per the latitude column\n",
        "latitudes = latitudes.filter(latitudes.Latitude.isNotNull())\n",
        "latitudes.show()"
      ],
      "metadata": {
        "colab": {
          "base_uri": "https://localhost:8080/"
        },
        "id": "m2RMDdMYcQ7H",
        "outputId": "7e6082c3-61be-43e1-b458-560bbeee8c7a"
      },
      "execution_count": null,
      "outputs": [
        {
          "output_type": "stream",
          "name": "stdout",
          "text": [
            "+----------+\n",
            "|  Latitude|\n",
            "+----------+\n",
            "|50.5774075|\n",
            "|48.8231572|\n",
            "|44.5047212|\n",
            "|53.4266145|\n",
            "|45.1905186|\n",
            "| 32.027934|\n",
            "|  4.272793|\n",
            "|     -5.85|\n",
            "| 39.172378|\n",
            "|49.8151822|\n",
            "|42.1014803|\n",
            "|49.7923299|\n",
            "|43.4945737|\n",
            "|52.7441662|\n",
            "| 38.696249|\n",
            "|-7.7232567|\n",
            "|40.7172049|\n",
            "|  49.16291|\n",
            "|40.7576842|\n",
            "|48.4902808|\n",
            "+----------+\n",
            "only showing top 20 rows\n",
            "\n"
          ]
        }
      ]
    },
    {
      "cell_type": "code",
      "source": [
        "latitudes = latitudes.withColumn('latitudes2', latitudes.Latitude.cast('float')).select('latitudes2')\n"
      ],
      "metadata": {
        "colab": {
          "base_uri": "https://localhost:8080/",
          "height": 339
        },
        "id": "f-GikG_TckO3",
        "outputId": "ce3553c9-ec18-4bf8-f9b4-248524c024e5"
      },
      "execution_count": null,
      "outputs": [
        {
          "output_type": "error",
          "ename": "AttributeError",
          "evalue": "ignored",
          "traceback": [
            "\u001b[0;31m---------------------------------------------------------------------------\u001b[0m",
            "\u001b[0;31mAttributeError\u001b[0m                            Traceback (most recent call last)",
            "\u001b[0;32m<ipython-input-32-29b6adf0d279>\u001b[0m in \u001b[0;36m<cell line: 1>\u001b[0;34m()\u001b[0m\n\u001b[0;32m----> 1\u001b[0;31m \u001b[0mlatitudes\u001b[0m \u001b[0;34m=\u001b[0m \u001b[0mlatitudes\u001b[0m\u001b[0;34m.\u001b[0m\u001b[0mwithColumn\u001b[0m\u001b[0;34m(\u001b[0m\u001b[0;34m'latitudes2'\u001b[0m\u001b[0;34m,\u001b[0m \u001b[0mlatitudes\u001b[0m\u001b[0;34m.\u001b[0m\u001b[0mLatitude\u001b[0m\u001b[0;34m.\u001b[0m\u001b[0mcast\u001b[0m\u001b[0;34m(\u001b[0m\u001b[0;34m'float'\u001b[0m\u001b[0;34m)\u001b[0m\u001b[0;34m)\u001b[0m\u001b[0;34m.\u001b[0m\u001b[0mselect\u001b[0m\u001b[0;34m(\u001b[0m\u001b[0;34m'latitudes2'\u001b[0m\u001b[0;34m)\u001b[0m\u001b[0;34m\u001b[0m\u001b[0;34m\u001b[0m\u001b[0m\n\u001b[0m\u001b[1;32m      2\u001b[0m \u001b[0mlatitudes\u001b[0m\u001b[0;34m.\u001b[0m\u001b[0mshow\u001b[0m\u001b[0;34m(\u001b[0m\u001b[0;34m)\u001b[0m\u001b[0;34m\u001b[0m\u001b[0;34m\u001b[0m\u001b[0m\n\u001b[1;32m      3\u001b[0m \u001b[0;31m# average_lat = latitudes.groupBy().avg('Latitude').take(1)[0][0]\u001b[0m\u001b[0;34m\u001b[0m\u001b[0;34m\u001b[0m\u001b[0m\n\u001b[1;32m      4\u001b[0m \u001b[0;31m# average_lat\u001b[0m\u001b[0;34m\u001b[0m\u001b[0;34m\u001b[0m\u001b[0m\n",
            "\u001b[0;32m/content/spark-3.4.0-bin-hadoop3/python/pyspark/sql/dataframe.py\u001b[0m in \u001b[0;36m__getattr__\u001b[0;34m(self, name)\u001b[0m\n\u001b[1;32m   2975\u001b[0m         \"\"\"\n\u001b[1;32m   2976\u001b[0m         \u001b[0;32mif\u001b[0m \u001b[0mname\u001b[0m \u001b[0;32mnot\u001b[0m \u001b[0;32min\u001b[0m \u001b[0mself\u001b[0m\u001b[0;34m.\u001b[0m\u001b[0mcolumns\u001b[0m\u001b[0;34m:\u001b[0m\u001b[0;34m\u001b[0m\u001b[0;34m\u001b[0m\u001b[0m\n\u001b[0;32m-> 2977\u001b[0;31m             raise AttributeError(\n\u001b[0m\u001b[1;32m   2978\u001b[0m                 \u001b[0;34m\"'%s' object has no attribute '%s'\"\u001b[0m \u001b[0;34m%\u001b[0m \u001b[0;34m(\u001b[0m\u001b[0mself\u001b[0m\u001b[0;34m.\u001b[0m\u001b[0m__class__\u001b[0m\u001b[0;34m.\u001b[0m\u001b[0m__name__\u001b[0m\u001b[0;34m,\u001b[0m \u001b[0mname\u001b[0m\u001b[0;34m)\u001b[0m\u001b[0;34m\u001b[0m\u001b[0;34m\u001b[0m\u001b[0m\n\u001b[1;32m   2979\u001b[0m             )\n",
            "\u001b[0;31mAttributeError\u001b[0m: 'DataFrame' object has no attribute 'Latitude'"
          ]
        }
      ]
    },
    {
      "cell_type": "code",
      "source": [
        "median_lat = np.median(latitudes.collect())\n",
        "median_lat"
      ],
      "metadata": {
        "colab": {
          "base_uri": "https://localhost:8080/"
        },
        "id": "11iCkqxad5Cm",
        "outputId": "6cef8640-e96d-40c0-a196-dba051ee0f25"
      },
      "execution_count": null,
      "outputs": [
        {
          "output_type": "execute_result",
          "data": {
            "text/plain": [
              "31.93397331237793"
            ]
          },
          "metadata": {},
          "execution_count": 37
        }
      ]
    },
    {
      "cell_type": "code",
      "source": [
        "df2 = df2.withColumn('lat', when(df2.Latitude.isNull(), lit(median_lat)).otherwise(df2.Latitude))\n",
        "df2.show()"
      ],
      "metadata": {
        "colab": {
          "base_uri": "https://localhost:8080/"
        },
        "id": "lghUwxrTeNsA",
        "outputId": "8061b5ab-1d6e-4d78-dd15-74141f274a87"
      },
      "execution_count": null,
      "outputs": [
        {
          "output_type": "stream",
          "name": "stdout",
          "text": [
            "+---+----------+----------+------+---------------+--------------------+---------+----------+-----------+---------------+------------+----------------+-----------------+\n",
            "| id|first_name| last_name|gender|           City|            JobTitle|   Salary|  Latitude|  Longitude|     clean_city|clean_salary|      new_salary|              lat|\n",
            "+---+----------+----------+------+---------------+--------------------+---------+----------+-----------+---------------+------------+----------------+-----------------+\n",
            "|  1|   Melinde| Shilburne|Female|      Nowa Ruda| Assistant Professor|$57438.18|50.5774075| 16.4967184|      Nowa Ruda|    57438.18|   57438.1796875|       50.5774075|\n",
            "|  2|  Kimberly|Von Welden|Female|         Bulgan|       Programmer II|$62846.60|48.8231572|103.5218199|         Bulgan|     62846.6|   62846.6015625|       48.8231572|\n",
            "|  4|   Shannon| O'Griffin|  Male|  Divnomorskoye|Budget/Accounting...|$61489.23|44.5047212| 38.1300171|  Divnomorskoye|    61489.23|  61489.23046875|       44.5047212|\n",
            "|  5|  Sherwood|   Macieja|  Male|      Mytishchi|            VP Sales|$63863.09|      null| 37.6489954|      Mytishchi|    63863.09|  63863.08984375|31.93397331237793|\n",
            "|  6|     Maris|      Folk|Female|Kinsealy-Drinan|      Civil Engineer|$30101.16|53.4266145| -6.1644997|Kinsealy-Drinan|    30101.16|  30101.16015625|       53.4266145|\n",
            "|  8|   Goddart|     Flear|  Male|      Trélissac|Desktop Support T...|$46116.36|45.1905186|  0.7423124|      Trélissac|    46116.36|    46116.359375|       45.1905186|\n",
            "|  9|      Roth|O'Cannavan|  Male|         Heitan|VP Product Manage...|$73697.10| 32.027934| 106.657113|         Heitan|     73697.1|   73697.1015625|        32.027934|\n",
            "| 10|      Bran|   Trahear|  Male|       Arbeláez|Mechanical System...|$68098.42|  4.272793| -74.416014|       Arbeláez|    68098.42|    68098.421875|         4.272793|\n",
            "| 11|    Kylynn|   Lockart|Female|       El Cardo|Nuclear Power Eng...|$13604.63|     -5.85|-79.8833329|       El Cardo|    13604.63|13604.6298828125|            -5.85|\n",
            "| 12|       Rey|    Meharg|Female|    Wangqingtuo|Systems Administr...|$73423.70| 39.172378| 116.931607|    Wangqingtuo|     73423.7|    73423.703125|        39.172378|\n",
            "| 13|      Kerr|    Braden|  Male|      Sułkowice|Compensation Analyst|$33432.99|49.8151822| 19.3771749|      Sułkowice|    33432.99|  33432.98828125|       49.8151822|\n",
            "| 14|    Mickie| Whanstall|  Male|    Springfield|Assistant Media P...|$50838.53|42.1014803|-72.5766759|    Springfield|    50838.53|     50838.53125|       42.1014803|\n",
            "| 15|    Kaspar|     Pally|  Male|         Chrást|  Analyst Programmer|$40163.03|49.7923299| 13.4915324|         Chrást|    40163.03|     40163.03125|       49.7923299|\n",
            "| 16|    Norbie|    Gwyllt|  Male|         Xijiao|              Editor|$32492.73|43.4945737|  5.8978018|         Xijiao|    32492.73|  32492.73046875|       43.4945737|\n",
            "| 17|    Claude|    Briant|Female|      Mieścisko|Research Assistan...|$51862.48|52.7441662| 17.3278637|      Mieścisko|    51862.48|  51862.48046875|       52.7441662|\n",
            "| 18|     Thain|    Habbon|  Male| Foros do Trapo|     Design Engineer|$42135.67| 38.696249| -8.7098337| Foros do Trapo|    42135.67|    42135.671875|        38.696249|\n",
            "| 19|  Tiffanie|  Pattison|Female|    Jabungsisir|Senior Financial ...|$91925.08|-7.7232567|113.4686802|    Jabungsisir|    91925.08|    91925.078125|       -7.7232567|\n",
            "| 20|    Ettore|  Gerriets|  Male|          Pedra| Staff Accountant IV|$73921.33|40.7172049| -8.3625148|          Pedra|    73921.33|    73921.328125|       40.7172049|\n",
            "| 21|      Alon|  Chasteau|  Male|          Xin’e|     Web Developer I|$62755.85|  49.16291|  127.98658|          Xin’e|    62755.85|   62755.8515625|         49.16291|\n",
            "| 22|   Guthrey|    Johnke|  Male|         Xijiao|         Developer I|$13708.03|40.7576842| 23.1342184|         Xijiao|    13708.03|13708.0302734375|       40.7576842|\n",
            "+---+----------+----------+------+---------------+--------------------+---------+----------+-----------+---------------+------------+----------------+-----------------+\n",
            "only showing top 20 rows\n",
            "\n"
          ]
        }
      ]
    },
    {
      "cell_type": "markdown",
      "source": [
        "# **AGGREGATIONS & ALIAS**"
      ],
      "metadata": {
        "id": "OLXYE1F1hkRe"
      }
    },
    {
      "cell_type": "code",
      "source": [
        "import pyspark.sql.functions as sqlfunc\n",
        "genders = df2.groupBy('gender').agg(sqlfunc.avg('new_salary').alias('AvgSalary'))\n",
        "genders.show()"
      ],
      "metadata": {
        "colab": {
          "base_uri": "https://localhost:8080/"
        },
        "id": "b_IiXIpAe6qw",
        "outputId": "1f432ed3-5b7c-49b6-b721-29c71cdc1b47"
      },
      "execution_count": null,
      "outputs": [
        {
          "output_type": "stream",
          "name": "stdout",
          "text": [
            "+------+------------------+\n",
            "|gender|         AvgSalary|\n",
            "+------+------------------+\n",
            "|Female|55677.250125558036|\n",
            "|  Male| 55361.09385573019|\n",
            "+------+------------------+\n",
            "\n"
          ]
        }
      ]
    },
    {
      "cell_type": "code",
      "source": [
        "dfnew = df2.withColumn('female_salary', when(df2.gender == 'Female', df2.new_salary).otherwise(lit(0)))\n",
        "dfnew = dfnew.withColumn('male_salary', when(dfnew.gender == 'Male', dfnew.new_salary).otherwise(lit(0)))\n",
        "dfnew.show()"
      ],
      "metadata": {
        "colab": {
          "base_uri": "https://localhost:8080/"
        },
        "id": "UVH6vopifz3E",
        "outputId": "f899e9e3-9805-4a69-f5ac-6586cc63009d"
      },
      "execution_count": null,
      "outputs": [
        {
          "output_type": "stream",
          "name": "stdout",
          "text": [
            "+---+----------+----------+------+---------------+--------------------+---------+----------+-----------+---------------+------------+----------------+-----------------+----------------+----------------+\n",
            "| id|first_name| last_name|gender|           City|            JobTitle|   Salary|  Latitude|  Longitude|     clean_city|clean_salary|      new_salary|              lat|   female_salary|     male_salary|\n",
            "+---+----------+----------+------+---------------+--------------------+---------+----------+-----------+---------------+------------+----------------+-----------------+----------------+----------------+\n",
            "|  1|   Melinde| Shilburne|Female|      Nowa Ruda| Assistant Professor|$57438.18|50.5774075| 16.4967184|      Nowa Ruda|    57438.18|   57438.1796875|       50.5774075|   57438.1796875|             0.0|\n",
            "|  2|  Kimberly|Von Welden|Female|         Bulgan|       Programmer II|$62846.60|48.8231572|103.5218199|         Bulgan|     62846.6|   62846.6015625|       48.8231572|   62846.6015625|             0.0|\n",
            "|  4|   Shannon| O'Griffin|  Male|  Divnomorskoye|Budget/Accounting...|$61489.23|44.5047212| 38.1300171|  Divnomorskoye|    61489.23|  61489.23046875|       44.5047212|             0.0|  61489.23046875|\n",
            "|  5|  Sherwood|   Macieja|  Male|      Mytishchi|            VP Sales|$63863.09|      null| 37.6489954|      Mytishchi|    63863.09|  63863.08984375|31.93397331237793|             0.0|  63863.08984375|\n",
            "|  6|     Maris|      Folk|Female|Kinsealy-Drinan|      Civil Engineer|$30101.16|53.4266145| -6.1644997|Kinsealy-Drinan|    30101.16|  30101.16015625|       53.4266145|  30101.16015625|             0.0|\n",
            "|  8|   Goddart|     Flear|  Male|      Trélissac|Desktop Support T...|$46116.36|45.1905186|  0.7423124|      Trélissac|    46116.36|    46116.359375|       45.1905186|             0.0|    46116.359375|\n",
            "|  9|      Roth|O'Cannavan|  Male|         Heitan|VP Product Manage...|$73697.10| 32.027934| 106.657113|         Heitan|     73697.1|   73697.1015625|        32.027934|             0.0|   73697.1015625|\n",
            "| 10|      Bran|   Trahear|  Male|       Arbeláez|Mechanical System...|$68098.42|  4.272793| -74.416014|       Arbeláez|    68098.42|    68098.421875|         4.272793|             0.0|    68098.421875|\n",
            "| 11|    Kylynn|   Lockart|Female|       El Cardo|Nuclear Power Eng...|$13604.63|     -5.85|-79.8833329|       El Cardo|    13604.63|13604.6298828125|            -5.85|13604.6298828125|             0.0|\n",
            "| 12|       Rey|    Meharg|Female|    Wangqingtuo|Systems Administr...|$73423.70| 39.172378| 116.931607|    Wangqingtuo|     73423.7|    73423.703125|        39.172378|    73423.703125|             0.0|\n",
            "| 13|      Kerr|    Braden|  Male|      Sułkowice|Compensation Analyst|$33432.99|49.8151822| 19.3771749|      Sułkowice|    33432.99|  33432.98828125|       49.8151822|             0.0|  33432.98828125|\n",
            "| 14|    Mickie| Whanstall|  Male|    Springfield|Assistant Media P...|$50838.53|42.1014803|-72.5766759|    Springfield|    50838.53|     50838.53125|       42.1014803|             0.0|     50838.53125|\n",
            "| 15|    Kaspar|     Pally|  Male|         Chrást|  Analyst Programmer|$40163.03|49.7923299| 13.4915324|         Chrást|    40163.03|     40163.03125|       49.7923299|             0.0|     40163.03125|\n",
            "| 16|    Norbie|    Gwyllt|  Male|         Xijiao|              Editor|$32492.73|43.4945737|  5.8978018|         Xijiao|    32492.73|  32492.73046875|       43.4945737|             0.0|  32492.73046875|\n",
            "| 17|    Claude|    Briant|Female|      Mieścisko|Research Assistan...|$51862.48|52.7441662| 17.3278637|      Mieścisko|    51862.48|  51862.48046875|       52.7441662|  51862.48046875|             0.0|\n",
            "| 18|     Thain|    Habbon|  Male| Foros do Trapo|     Design Engineer|$42135.67| 38.696249| -8.7098337| Foros do Trapo|    42135.67|    42135.671875|        38.696249|             0.0|    42135.671875|\n",
            "| 19|  Tiffanie|  Pattison|Female|    Jabungsisir|Senior Financial ...|$91925.08|-7.7232567|113.4686802|    Jabungsisir|    91925.08|    91925.078125|       -7.7232567|    91925.078125|             0.0|\n",
            "| 20|    Ettore|  Gerriets|  Male|          Pedra| Staff Accountant IV|$73921.33|40.7172049| -8.3625148|          Pedra|    73921.33|    73921.328125|       40.7172049|             0.0|    73921.328125|\n",
            "| 21|      Alon|  Chasteau|  Male|          Xin’e|     Web Developer I|$62755.85|  49.16291|  127.98658|          Xin’e|    62755.85|   62755.8515625|         49.16291|             0.0|   62755.8515625|\n",
            "| 22|   Guthrey|    Johnke|  Male|         Xijiao|         Developer I|$13708.03|40.7576842| 23.1342184|         Xijiao|    13708.03|13708.0302734375|       40.7576842|             0.0|13708.0302734375|\n",
            "+---+----------+----------+------+---------------+--------------------+---------+----------+-----------+---------------+------------+----------------+-----------------+----------------+----------------+\n",
            "only showing top 20 rows\n",
            "\n"
          ]
        }
      ]
    },
    {
      "cell_type": "code",
      "source": [
        "dfnew = dfnew.groupBy('JobTitle').agg(sqlfunc.avg('female_salary').alias('final_female_salary'), sqlfunc.avg('male_salary').alias('final_male_salary'))"
      ],
      "metadata": {
        "id": "H-wXidOogt0a"
      },
      "execution_count": null,
      "outputs": []
    },
    {
      "cell_type": "code",
      "source": [
        "dfnew.show()"
      ],
      "metadata": {
        "colab": {
          "base_uri": "https://localhost:8080/"
        },
        "id": "69ilP9RKgZLq",
        "outputId": "919256ac-90f0-4348-84dc-706c1fe376ba"
      },
      "execution_count": null,
      "outputs": [
        {
          "output_type": "stream",
          "name": "stdout",
          "text": [
            "+--------------------+-------------------+------------------+\n",
            "|            JobTitle|final_female_salary| final_male_salary|\n",
            "+--------------------+-------------------+------------------+\n",
            "|Systems Administr...|    50590.474609375|  15540.9501953125|\n",
            "|   Media Manager III| 29586.436197916668|17381.920572916668|\n",
            "|  Recruiting Manager| 34848.452473958336|  26383.4951171875|\n",
            "|       Geologist III|       31749.046875|    12830.75390625|\n",
            "|        Geologist II|                0.0|   43293.865234375|\n",
            "|Database Administ...|                0.0|     52018.4609375|\n",
            "|   Financial Analyst|    23353.776953125|       39606.05625|\n",
            "|  Analyst Programmer|   16406.1287109375|  21042.9634765625|\n",
            "|Software Engineer II|                0.0|      74782.640625|\n",
            "|       Accountant IV|    82732.248046875|               0.0|\n",
            "|    Product Engineer|     41825.48359375|       20464.94375|\n",
            "|Software Test Eng...|   32218.6083984375|   27122.462890625|\n",
            "|Safety Technician...|                0.0|   29421.529296875|\n",
            "|    Junior Executive| 15752.220052083334|49510.330729166664|\n",
            "|Systems Administr...|        77059.21875|               0.0|\n",
            "|Human Resources A...|    24022.662109375| 16609.27783203125|\n",
            "|        VP Marketing|  7981.178385416667|52844.534830729164|\n",
            "|  Environmental Tech| 13706.980143229166|      45660.890625|\n",
            "|Mechanical System...| 31370.781901041668|44321.593098958336|\n",
            "| Assistant Professor|    22175.953515625|   26912.770703125|\n",
            "+--------------------+-------------------+------------------+\n",
            "only showing top 20 rows\n",
            "\n"
          ]
        }
      ]
    },
    {
      "cell_type": "code",
      "source": [
        "dfnew = dfnew.withColumn('delta', abs(dfnew.final_female_salary - dfnew.final_male_salary))\n",
        "dfnew.show()"
      ],
      "metadata": {
        "colab": {
          "base_uri": "https://localhost:8080/"
        },
        "id": "C9BPqZfZhl0z",
        "outputId": "893f1d8c-8bfd-4efa-bab1-c5f63c926d48"
      },
      "execution_count": null,
      "outputs": [
        {
          "output_type": "stream",
          "name": "stdout",
          "text": [
            "+--------------------+-------------------+------------------+------------------+\n",
            "|            JobTitle|final_female_salary| final_male_salary|             delta|\n",
            "+--------------------+-------------------+------------------+------------------+\n",
            "|Systems Administr...|    50590.474609375|  15540.9501953125|  35049.5244140625|\n",
            "|   Media Manager III| 29586.436197916668|17381.920572916668|      12204.515625|\n",
            "|  Recruiting Manager| 34848.452473958336|  26383.4951171875| 8464.957356770836|\n",
            "|       Geologist III|       31749.046875|    12830.75390625|    18918.29296875|\n",
            "|        Geologist II|                0.0|   43293.865234375|   43293.865234375|\n",
            "|Database Administ...|                0.0|     52018.4609375|     52018.4609375|\n",
            "|   Financial Analyst|    23353.776953125|       39606.05625|   16252.279296875|\n",
            "|  Analyst Programmer|   16406.1287109375|  21042.9634765625| 4636.834765625001|\n",
            "|Software Engineer II|                0.0|      74782.640625|      74782.640625|\n",
            "|       Accountant IV|    82732.248046875|               0.0|   82732.248046875|\n",
            "|    Product Engineer|     41825.48359375|       20464.94375|21360.539843750004|\n",
            "|Software Test Eng...|   32218.6083984375|   27122.462890625|   5096.1455078125|\n",
            "|Safety Technician...|                0.0|   29421.529296875|   29421.529296875|\n",
            "|    Junior Executive| 15752.220052083334|49510.330729166664| 33758.11067708333|\n",
            "|Systems Administr...|        77059.21875|               0.0|       77059.21875|\n",
            "|Human Resources A...|    24022.662109375| 16609.27783203125|  7413.38427734375|\n",
            "|        VP Marketing|  7981.178385416667|52844.534830729164|  44863.3564453125|\n",
            "|  Environmental Tech| 13706.980143229166|      45660.890625|31953.910481770836|\n",
            "|Mechanical System...| 31370.781901041668|44321.593098958336|12950.811197916668|\n",
            "| Assistant Professor|    22175.953515625|   26912.770703125| 4736.817187500001|\n",
            "+--------------------+-------------------+------------------+------------------+\n",
            "only showing top 20 rows\n",
            "\n"
          ]
        }
      ]
    },
    {
      "cell_type": "code",
      "source": [
        "city_avg = df2.groupBy('City').agg(sqlfunc.avg('new_salary').alias('avgsalary'))\n",
        "city_avg = city_avg.sort(col('avgsalary').desc())"
      ],
      "metadata": {
        "id": "FMAdp_1CffJw"
      },
      "execution_count": null,
      "outputs": []
    },
    {
      "cell_type": "code",
      "source": [
        "city_avg.show()"
      ],
      "metadata": {
        "colab": {
          "base_uri": "https://localhost:8080/"
        },
        "id": "ujZNPpR_iUp1",
        "outputId": "2a2a297b-6e96-4945-a1d2-f2185c5eeb0d"
      },
      "execution_count": null,
      "outputs": [
        {
          "output_type": "stream",
          "name": "stdout",
          "text": [
            "+-----------------+-------------+\n",
            "|             City|    avgsalary|\n",
            "+-----------------+-------------+\n",
            "|        Mesopotam|  99948.28125|\n",
            "|       Zhongcheng| 99942.921875|\n",
            "|           Caxias|99786.3984375|\n",
            "|      Karangtawar|99638.9921875|\n",
            "|        Itabaiana|  99502.15625|\n",
            "|           Pasian|  99421.34375|\n",
            "|           Webuye| 99368.546875|\n",
            "|      Yuktae-dong| 99250.828125|\n",
            "|           Zinder|  99222.84375|\n",
            "|   Timiryazevskiy|   99142.9375|\n",
            "|        Sawahbaru|99013.7109375|\n",
            "|          Madimba|98737.8671875|\n",
            "|         Huangshi|  98690.34375|\n",
            "|          Gharyan|   98679.3125|\n",
            "|         Yŏnan-ŭp| 98628.609375|\n",
            "|     Wringinputih|98603.8203125|\n",
            "|Monte da Boavista|  98586.71875|\n",
            "|          Klukeng|98439.4921875|\n",
            "|         Murmashi|  98226.15625|\n",
            "|        Fox Creek|      98138.0|\n",
            "+-----------------+-------------+\n",
            "only showing top 20 rows\n",
            "\n"
          ]
        }
      ]
    },
    {
      "cell_type": "markdown",
      "source": [
        "## **CHALLANGE**\n",
        "\n",
        "Some extra quick challange"
      ],
      "metadata": {
        "id": "mPoo_LMXs6Hq"
      }
    },
    {
      "cell_type": "code",
      "source": [
        "df = spark.read.csv('challenge.csv', header=True)\n",
        "df.show()"
      ],
      "metadata": {
        "colab": {
          "base_uri": "https://localhost:8080/"
        },
        "id": "kOgxpD_btCAj",
        "outputId": "c8cbae6b-2eb7-49a5-e09c-6f861b8008ce"
      },
      "execution_count": null,
      "outputs": [
        {
          "output_type": "stream",
          "name": "stdout",
          "text": [
            "+---------------+--------------+-----------------+----------+\n",
            "|     ip_address|       Country|      Domain Name|Bytes_used|\n",
            "+---------------+--------------+-----------------+----------+\n",
            "|  52.81.192.172|         China| odnoklassniki.ru|       463|\n",
            "| 119.239.207.13|         China|         youtu.be|        51|\n",
            "|  68.69.217.210|         China|        adobe.com|        10|\n",
            "|   7.191.21.223|      Bulgaria|     linkedin.com|       853|\n",
            "|   211.13.10.68|     Indonesia|          hud.gov|        29|\n",
            "|   239.80.21.97|      Suriname|       smh.com.au|       218|\n",
            "|106.214.106.233|       Jamaica|    amazonaws.com|        95|\n",
            "| 127.242.24.138|         China| surveymonkey.com|       123|\n",
            "|     99.2.6.139|Czech Republic|     geocities.jp|       322|\n",
            "|   237.54.11.63|         China|       amazon.com|        83|\n",
            "| 252.141.157.25|         Japan|      cornell.edu|       374|\n",
            "|185.220.128.248|       Belgium|       weebly.com|       389|\n",
            "|   151.77.19.45|   Afghanistan|independent.co.uk|       282|\n",
            "|  9.161.158.225|     Indonesia|    bloglines.com|       726|\n",
            "| 156.144.61.155|Czech Republic|   slideshare.net|       657|\n",
            "|   8.96.188.151|     Indonesia|          ibm.com|       517|\n",
            "|      5.72.7.65|        Mexico|         youtu.be|       877|\n",
            "|227.110.112.144|       Croatia|         ehow.com|       287|\n",
            "|    81.71.28.97|      Thailand|          last.fm|       588|\n",
            "|  9.255.129.184|      Thailand|          mtv.com|       114|\n",
            "+---------------+--------------+-----------------+----------+\n",
            "only showing top 20 rows\n",
            "\n"
          ]
        }
      ]
    },
    {
      "cell_type": "code",
      "source": [
        "## Add column to say yes or no to whether the country is mexico\n",
        "df = df.withColumn('chal1', when(df.Country=='Mexico', 'Yes').otherwise('No'))\n",
        "df.show()"
      ],
      "metadata": {
        "colab": {
          "base_uri": "https://localhost:8080/"
        },
        "id": "lgBS3B3ws77J",
        "outputId": "b81f63ab-0ac9-4b07-ee7a-f8cf6f9e2486"
      },
      "execution_count": null,
      "outputs": [
        {
          "output_type": "stream",
          "name": "stdout",
          "text": [
            "+---------------+--------------+-----------------+----------+-----+\n",
            "|     ip_address|       Country|      Domain Name|Bytes_used|chal1|\n",
            "+---------------+--------------+-----------------+----------+-----+\n",
            "|  52.81.192.172|         China| odnoklassniki.ru|       463|   No|\n",
            "| 119.239.207.13|         China|         youtu.be|        51|   No|\n",
            "|  68.69.217.210|         China|        adobe.com|        10|   No|\n",
            "|   7.191.21.223|      Bulgaria|     linkedin.com|       853|   No|\n",
            "|   211.13.10.68|     Indonesia|          hud.gov|        29|   No|\n",
            "|   239.80.21.97|      Suriname|       smh.com.au|       218|   No|\n",
            "|106.214.106.233|       Jamaica|    amazonaws.com|        95|   No|\n",
            "| 127.242.24.138|         China| surveymonkey.com|       123|   No|\n",
            "|     99.2.6.139|Czech Republic|     geocities.jp|       322|   No|\n",
            "|   237.54.11.63|         China|       amazon.com|        83|   No|\n",
            "| 252.141.157.25|         Japan|      cornell.edu|       374|   No|\n",
            "|185.220.128.248|       Belgium|       weebly.com|       389|   No|\n",
            "|   151.77.19.45|   Afghanistan|independent.co.uk|       282|   No|\n",
            "|  9.161.158.225|     Indonesia|    bloglines.com|       726|   No|\n",
            "| 156.144.61.155|Czech Republic|   slideshare.net|       657|   No|\n",
            "|   8.96.188.151|     Indonesia|          ibm.com|       517|   No|\n",
            "|      5.72.7.65|        Mexico|         youtu.be|       877|  Yes|\n",
            "|227.110.112.144|       Croatia|         ehow.com|       287|   No|\n",
            "|    81.71.28.97|      Thailand|          last.fm|       588|   No|\n",
            "|  9.255.129.184|      Thailand|          mtv.com|       114|   No|\n",
            "+---------------+--------------+-----------------+----------+-----+\n",
            "only showing top 20 rows\n",
            "\n"
          ]
        }
      ]
    },
    {
      "cell_type": "code",
      "source": [
        "## TASK: Group by your new column and sum bytes used\n",
        "\n",
        "## Create a new col that has 1 & 0\n",
        "df = df.withColumn('num_chal1', when(df.chal1 == 'Yes', lit(1)).otherwise(lit(0)))\n",
        "# df.show()\n",
        "df_grouped = df.groupBy('chal1').agg(sqlfunc.sum(df.num_chal1).alias('chal2'))\n",
        "df_grouped.show()"
      ],
      "metadata": {
        "colab": {
          "base_uri": "https://localhost:8080/"
        },
        "id": "M0FIbEDstZoR",
        "outputId": "ca05c9bb-ec5e-4bfe-d5bb-bdc13b05f443"
      },
      "execution_count": null,
      "outputs": [
        {
          "output_type": "stream",
          "name": "stdout",
          "text": [
            "+-----+-----+\n",
            "|chal1|chal2|\n",
            "+-----+-----+\n",
            "|   No|    0|\n",
            "|  Yes|   13|\n",
            "+-----+-----+\n",
            "\n"
          ]
        }
      ]
    },
    {
      "cell_type": "code",
      "source": [
        "df_grouped = df.groupBy('chal1').agg(sqlfunc.sum(df.Bytes_used))\n",
        "df_grouped.show()"
      ],
      "metadata": {
        "colab": {
          "base_uri": "https://localhost:8080/"
        },
        "id": "MWnOiqNXvpVw",
        "outputId": "aaa78ba0-1dc6-4f8c-a410-8b939481745c"
      },
      "execution_count": null,
      "outputs": [
        {
          "output_type": "stream",
          "name": "stdout",
          "text": [
            "+-----+---------------+\n",
            "|chal1|sum(Bytes_used)|\n",
            "+-----+---------------+\n",
            "|   No|       508076.0|\n",
            "|  Yes|         6293.0|\n",
            "+-----+---------------+\n",
            "\n"
          ]
        }
      ]
    },
    {
      "cell_type": "code",
      "source": [
        "## Group by country & use the sqlfunc.countDistinct to cal the number of IP aaddresses seen in each country \n",
        "\n",
        "df_country = df.groupBy('Country').agg(sqlfunc.countDistinct(df.ip_address).alias('count')).sort(col('count').desc())\n",
        "df_country.show()\n",
        "\n",
        "city_avg.sort(col('avgsalary').desc())"
      ],
      "metadata": {
        "colab": {
          "base_uri": "https://localhost:8080/"
        },
        "id": "mdqgDOKtuMe7",
        "outputId": "6aa77c5c-0ccd-4f61-e6a6-ca9377acf98f"
      },
      "execution_count": null,
      "outputs": [
        {
          "output_type": "stream",
          "name": "stdout",
          "text": [
            "+--------------+-----+\n",
            "|       Country|count|\n",
            "+--------------+-----+\n",
            "|         China|  172|\n",
            "|     Indonesia|  114|\n",
            "|   Philippines|   65|\n",
            "|        Russia|   56|\n",
            "|        Brazil|   35|\n",
            "|        Poland|   31|\n",
            "|        Sweden|   28|\n",
            "|         Japan|   25|\n",
            "|Czech Republic|   23|\n",
            "|      Portugal|   23|\n",
            "|        France|   21|\n",
            "|          Peru|   19|\n",
            "|      Colombia|   17|\n",
            "| United States|   15|\n",
            "|     Argentina|   14|\n",
            "|       Ukraine|   14|\n",
            "|        Mexico|   13|\n",
            "|      Thailand|   12|\n",
            "|       Nigeria|   11|\n",
            "|        Canada|   11|\n",
            "+--------------+-----+\n",
            "only showing top 20 rows\n",
            "\n"
          ]
        },
        {
          "output_type": "execute_result",
          "data": {
            "text/plain": [
              "DataFrame[City: string, avgsalary: double]"
            ]
          },
          "metadata": {},
          "execution_count": 83
        }
      ]
    }
  ]
}